{
 "cells": [
  {
   "cell_type": "code",
   "execution_count": 1,
   "id": "5eec4c1c-1fa3-4088-bbab-9451cb159ed7",
   "metadata": {},
   "outputs": [],
   "source": [
    "import numpy as np\n",
    "import cv2\n",
    "\n",
    "# Load map in grayscale\n",
    "map = cv2.imread(\"map.png\", 0)\n",
    "HEIGHT, WIDTH = map.shape\n",
    "\n",
    "# Initialize robot's position and orientation\n",
    "rx, ry, rtheta = WIDTH / 4, HEIGHT / 4, 0\n",
    "\n",
    "# Display the map to ensure it's loaded correctly\n",
    "cv2.imshow('Map', map)\n",
    "cv2.waitKey(0)\n",
    "cv2.destroyAllWindows()\n",
    "\n",
    "\n"
   ]
  },
  {
   "cell_type": "code",
   "execution_count": 2,
   "id": "ee407572-1459-47de-a2ca-7f6bdf69ce91",
   "metadata": {},
   "outputs": [],
   "source": [
    "STEP = 5\n",
    "TURN = np.radians(45)\n",
    "NUM_PARTICLES = 5000\n",
    "SIGMA_STEP = 0.5\n",
    "SIGMA_TURN = np.radians(5)\n",
    "SIGMA_SENSOR = 2\n",
    "SIGMA_POS = 2\n",
    "SIGMA_TURN_NOISE = np.radians(10)\n",
    "\n"
   ]
  },
  {
   "cell_type": "code",
   "execution_count": 3,
   "id": "fb95a94b-fc91-49d4-9c92-68d57779c1f9",
   "metadata": {},
   "outputs": [],
   "source": [
    "def get_input():\n",
    "    fwd = 0\n",
    "    turn = 0\n",
    "    halt = False\n",
    "    k = cv2.waitKey(0)\n",
    "    if k == ord('w'):  # Move forward\n",
    "        fwd = STEP\n",
    "    elif k == ord('s'):  # Move backward\n",
    "        fwd = -STEP\n",
    "    elif k == ord('a'):  # Turn left\n",
    "        turn = -TURN\n",
    "    elif k == ord('d'):  # Turn right\n",
    "        turn = TURN\n",
    "    elif k == 27:  # ESC key to exit\n",
    "        halt = True\n",
    "    return fwd, turn, halt\n",
    "\n"
   ]
  },
  {
   "cell_type": "code",
   "execution_count": 4,
   "id": "94efd77e-6af6-4689-87f7-fb96516f1b2c",
   "metadata": {},
   "outputs": [],
   "source": [
    "def move_robot(rx, ry, rtheta, fwd, turn):\n",
    "    fwd_noisy = np.random.normal(fwd, SIGMA_STEP)\n",
    "    rx += fwd_noisy * np.cos(rtheta)\n",
    "    ry += fwd_noisy * np.sin(rtheta)\n",
    "    \n",
    "    turn_noisy = np.random.normal(turn, SIGMA_TURN)\n",
    "    rtheta += turn_noisy\n",
    "    \n",
    "    return rx, ry, rtheta\n"
   ]
  },
  {
   "cell_type": "code",
   "execution_count": 5,
   "id": "15adcd4b-6580-4fcb-aee0-5b68532e9203",
   "metadata": {},
   "outputs": [],
   "source": [
    "def init_particles():\n",
    "    particles = np.random.rand(NUM_PARTICLES, 3)\n",
    "    particles[:, 0] *= WIDTH\n",
    "    particles[:, 1] *= HEIGHT\n",
    "    particles[:, 2] *= np.radians(360)\n",
    "    return particles\n",
    "\n"
   ]
  },
  {
   "cell_type": "code",
   "execution_count": 6,
   "id": "8c6f6831-6097-4e8f-817f-732096205695",
   "metadata": {},
   "outputs": [],
   "source": [
    "def move_particles(particles, fwd, turn):\n",
    "    velocity_factor = 2.0  # Ensure this factor is appropriately scaled\n",
    "    particles[:, 0] += velocity_factor * fwd * np.cos(particles[:, 2])\n",
    "    particles[:, 1] += velocity_factor * fwd * np.sin(particles[:, 2])\n",
    "    particles[:, 2] += turn\n",
    "    \n",
    "    particles[:, 0] = np.clip(particles[:, 0], 0.0, WIDTH - 1)\n",
    "    particles[:, 1] = np.clip(particles[:, 1], 0.0, HEIGHT - 1)\n",
    "    return particles\n",
    "\n"
   ]
  },
  {
   "cell_type": "code",
   "execution_count": 7,
   "id": "8509cadd-2e2c-4f9e-8ebc-d64988bca379",
   "metadata": {},
   "outputs": [],
   "source": [
    "def sense(x, y, noisy=False):\n",
    "    x = int(x)\n",
    "    y = int(y)\n",
    "    if noisy:\n",
    "        return np.random.normal(map[y, x], SIGMA_SENSOR)\n",
    "    return map[y, x]\n",
    "\n",
    "def compute_weights(particles, robot_sensor):\n",
    "    errors = np.zeros(NUM_PARTICLES)\n",
    "    for i in range(NUM_PARTICLES):\n",
    "        elevation = sense(particles[i, 0], particles[i, 1], noisy=False)\n",
    "        errors[i] = abs(robot_sensor - elevation)\n",
    "    \n",
    "    weights = np.max(errors) - errors\n",
    "    weights[\n",
    "        (particles[:, 0] == 0) |\n",
    "        (particles[:, 0] == WIDTH - 1) |\n",
    "        (particles[:, 1] == 0) |\n",
    "        (particles[:, 1] == HEIGHT - 1)\n",
    "    ] = 0.0\n",
    "\n",
    "    # Raise weights to the fourth power for more pronounced effects\n",
    "    weights = weights ** 4\n",
    "    return weights\n",
    "\n"
   ]
  },
  {
   "cell_type": "code",
   "execution_count": 8,
   "id": "9307840f-23cf-4d9f-8617-e1870580b83f",
   "metadata": {},
   "outputs": [],
   "source": [
    "def resample(particles, weights):\n",
    "    # Normalize weights to get valid PDF\n",
    "    probabilities = weights / np.sum(weights)\n",
    "\n",
    "    # Resample\n",
    "    new_index = np.random.choice(NUM_PARTICLES, size=NUM_PARTICLES, p=probabilities)\n",
    "    particles = particles[new_index, :]\n",
    "    return particles\n"
   ]
  },
  {
   "cell_type": "code",
   "execution_count": 9,
   "id": "26f2f9bb-c0fb-497a-a2ff-dea2c60bca33",
   "metadata": {},
   "outputs": [],
   "source": [
    "def add_noise(particles):\n",
    "    noise = np.concatenate((\n",
    "        np.random.normal(0, SIGMA_POS, (NUM_PARTICLES, 1)),\n",
    "        np.random.normal(0, SIGMA_POS, (NUM_PARTICLES, 1)),\n",
    "        np.random.normal(0, SIGMA_TURN_NOISE, (NUM_PARTICLES, 1)),\n",
    "    ), axis=1)\n",
    "    particles += noise\n",
    "    return particles\n"
   ]
  },
  {
   "cell_type": "code",
   "execution_count": 10,
   "id": "bab1eda8-620d-4e5a-950a-15285875c3a0",
   "metadata": {},
   "outputs": [],
   "source": [
    "def display(map, rx, ry, particles):\n",
    "    lmap = cv2.cvtColor(map, cv2.COLOR_GRAY2BGR)\n",
    "    \n",
    "    if len(particles) > 0:\n",
    "        for i in range(NUM_PARTICLES):\n",
    "            cv2.circle(lmap, (int(particles[i, 0]), int(particles[i, 1])), 1, (255, 0, 0), 1)\n",
    "    \n",
    "    cv2.circle(lmap, (int(rx), int(ry)), 5, (0, 255, 0), 10)\n",
    "    \n",
    "    if len(particles) > 0:\n",
    "        px = np.mean(particles[:, 0])\n",
    "        py = np.mean(particles[:, 1])\n",
    "        cv2.circle(lmap, (int(px), int(py)), 5, (0, 0, 255), 5)\n",
    "    \n",
    "    cv2.imshow('Map', lmap)\n",
    "\n",
    "\n",
    "particles = init_particles()\n",
    "while True:\n",
    "    display(map, rx, ry, particles)\n",
    "    fwd, turn, halt = get_input()\n",
    "    if halt:\n",
    "        break\n",
    "    \n",
    "    rx, ry, rtheta = move_robot(rx, ry, rtheta, fwd, turn)\n",
    "    particles = move_particles(particles, fwd, turn)\n",
    "    \n",
    "    if fwd != 0:\n",
    "        robot_sensor = sense(rx, ry, noisy=True)\n",
    "        weights = compute_weights(particles, robot_sensor)\n",
    "        particles = resample(particles, weights)\n",
    "        particles = add_noise(particles)\n",
    "    \n",
    "cv2.destroyAllWindows()\n"
   ]
  },
  {
   "cell_type": "code",
   "execution_count": null,
   "id": "33216a91-1d12-468d-b6b4-a0863f420941",
   "metadata": {},
   "outputs": [],
   "source": []
  }
 ],
 "metadata": {
  "kernelspec": {
   "display_name": "Python 3 (ipykernel)",
   "language": "python",
   "name": "python3"
  },
  "language_info": {
   "codemirror_mode": {
    "name": "ipython",
    "version": 3
   },
   "file_extension": ".py",
   "mimetype": "text/x-python",
   "name": "python",
   "nbconvert_exporter": "python",
   "pygments_lexer": "ipython3",
   "version": "3.12.4"
  }
 },
 "nbformat": 4,
 "nbformat_minor": 5
}

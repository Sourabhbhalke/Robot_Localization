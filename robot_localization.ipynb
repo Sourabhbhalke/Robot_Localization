{
 "cells": [
  {
   "cell_type": "markdown",
   "metadata": {},
   "source": [
    "Robot Localization with Python and Particle Filters\n",
    "==================================================="
   ]
  },
  {
   "cell_type": "markdown",
   "metadata": {},
   "source": [
    "Import libraries and load map."
   ]
  },
  {
   "cell_type": "code",
   "execution_count": 1,
   "metadata": {},
   "outputs": [
    {
     "name": "stdout",
     "output_type": "stream",
     "text": [
      "[[ 79  80  82 ... 133 148 156]\n",
      " [ 78  79  81 ... 138 156 164]\n",
      " [ 76  77  79 ... 147 170 180]\n",
      " ...\n",
      " [181 181 182 ... 174 172 171]\n",
      " [178 178 178 ... 180 179 178]\n",
      " [177 177 177 ... 183 182 182]]\n"
     ]
    }
   ],
   "source": [
    "import numpy as np\n",
    "import cv2\n",
    "map = cv2.imread(\"map.png\",0)\n",
    "HEIGHT,WIDTH = map.shape\n",
    "print(map)\n",
    "rx,ry,rtheta = (WIDTH/4,HEIGHT/4,0)"
   ]
  },
  {
   "cell_type": "markdown",
   "metadata": {},
   "source": [
    "Map coordinate system\n",
    "\n",
    "![title](images/coords.png)\n",
    "\n",
    "CAUTION: The terrain height at X,Y coordinates is map(Y,X)."
   ]
  },
  {
   "cell_type": "markdown",
   "metadata": {},
   "source": [
    "Read keyboard input."
   ]
  },
  {
   "cell_type": "code",
   "execution_count": 2,
   "metadata": {},
   "outputs": [],
   "source": [
    "STEP = 5\n",
    "TURN =np.radians(25)\n",
    "def get_input():\n",
    "    fwd = 0\n",
    "    turn =  0\n",
    "    halt = False\n",
    "    k = cv2.waitKey(0)\n",
    "    if k == 82:  # Up arrow\n",
    "        fwd = STEP\n",
    "    elif k == 83: # Right arrow\n",
    "        turn = TURN\n",
    "    elif k == 81: # Left arrow\n",
    "        turn = -TURN\n",
    "    elif k == 27:  # ESC to halt \n",
    "        halt = True\n",
    "    return fwd, turn, halt"
   ]
  },
  {
   "cell_type": "markdown",
   "metadata": {},
   "source": [
    "Move the robot, with Gausssian noise.\n",
    "\n",
    "![title](images/gaussian.png)"
   ]
  },
  {
   "cell_type": "code",
   "execution_count": 3,
   "metadata": {},
   "outputs": [],
   "source": [
    "SIGMA_STEP = 0.5\n",
    "SIGMA_TURN = np.radians(5)\n",
    "\n",
    "def move_robot(rx, ry, rtheta, fwd, turn):\n",
    "    fwd_noisy = fwd + np.random.normal(0.0, SIGMA_STEP, 1)\n",
    "    rx += fwd_noisy * np.cos(rtheta)\n",
    "    ry += fwd_noisy * np.sin(rtheta)\n",
    "\n",
    "    turn_noisy = turn + np.random.normal(0.0, SIGMA_TURN, 1)\n",
    "    rtheta += turn_noisy\n",
    "\n",
    "    print(\"turn_noisy=\",np.degrees(turn_noisy))\n",
    "    \n",
    "    return rx, ry, rtheta"
   ]
  },
  {
   "cell_type": "markdown",
   "metadata": {},
   "source": [
    "Initialize particle cloud."
   ]
  },
  {
   "cell_type": "code",
   "execution_count": 4,
   "metadata": {},
   "outputs": [],
   "source": [
    "NUM_PARTICLES = 3000\n",
    "def init():\n",
    "    particles = np.random.rand(NUM_PARTICLES,3)\n",
    "    particles *=np.array( (WIDTH,HEIGHT,np.radians(360)))\n",
    "\n",
    "    return particles"
   ]
  },
  {
   "cell_type": "markdown",
   "metadata": {},
   "source": [
    "Move the particles."
   ]
  },
  {
   "cell_type": "code",
   "execution_count": 5,
   "metadata": {},
   "outputs": [],
   "source": [
    "def move_particles(particles, fwd, turn):\n",
    "    particles[:,0] += fwd * np.cos(particles[:,2])\n",
    "    particles[:,1] += fwd * np.sin(particles[:,2])\n",
    "    particles[:,2] += turn\n",
    "\n",
    "    particles[:,0] = np.clip(particles[:,0], 0.0, WIDTH-1)\n",
    "    particles[:,1] = np.clip(particles[:,1], 0.0, HEIGHT-1)\n",
    "    return particles\n",
    "    return particles"
   ]
  },
  {
   "cell_type": "markdown",
   "metadata": {},
   "source": [
    "Get value from robot's sensor."
   ]
  },
  {
   "cell_type": "code",
   "execution_count": 6,
   "metadata": {},
   "outputs": [],
   "source": [
    "SIGMA_SENSOR = 2\n",
    "def sense(x, y, noisy=False):\n",
    "    x = int(x)\n",
    "    y = int(y)\n",
    "    if noisy:\n",
    "        return np.random.normal(map[y,x], SIGMA_SENSOR, 1)\n",
    "    return map[y,x]"
   ]
  },
  {
   "cell_type": "markdown",
   "metadata": {},
   "source": [
    "Compute particle weights."
   ]
  },
  {
   "cell_type": "code",
   "execution_count": 7,
   "metadata": {},
   "outputs": [],
   "source": [
    "def compute_weights(particles, robot_sensor):    \n",
    "    errors = np.zeros(NUM_PARTICLES)\n",
    "    for i in range(NUM_PARTICLES):\n",
    "        elevation = sense(particles[i,0],particles[i,1], noisy =False)\n",
    "        errors[i] = abs(robot_sensor - elevation)\n",
    "    weights = np.max(errors) - errors\n",
    "    weights[\n",
    "    (particles[:,0] ==0) |\n",
    "    (particles[:,0] == WIDTH-1) |\n",
    "    (particles[:,1] ==0) |\n",
    "    (particles[:,1] == HEIGHT-1) \n",
    "    ] = 0.0\n",
    "    \n",
    "    weights = weights **3\n",
    "    return weights"
   ]
  },
  {
   "cell_type": "markdown",
   "metadata": {},
   "source": [
    "Resample the particles."
   ]
  },
  {
   "cell_type": "code",
   "execution_count": 8,
   "metadata": {},
   "outputs": [],
   "source": [
    "def resample(particles, weights):\n",
    "    probabilities = weights / np.sum(weights)\n",
    "    new_index = np.random.choice(\n",
    "    NUM_PARTICLES,\n",
    "    size = NUM_PARTICLES,\n",
    "    p = probabilities\n",
    "    )\n",
    "    particles = particles[new_index,:]\n",
    "    return particles"
   ]
  },
  {
   "cell_type": "markdown",
   "metadata": {},
   "source": [
    "Add noise to the particles."
   ]
  },
  {
   "cell_type": "code",
   "execution_count": 9,
   "metadata": {},
   "outputs": [],
   "source": [
    "SIGMA_POS =2\n",
    "SIGMA_TURN = np.radians(10)\n",
    "\n",
    "def add_noise(particles):\n",
    "    noise = np.concatenate(\n",
    "        (\n",
    "            np.random.normal(0, SIGMA_POS,(NUM_PARTICLES,1)),\n",
    "            np.random.normal(0, SIGMA_POS,(NUM_PARTICLES,1)),\n",
    "            np.random.normal(0, SIGMA_TURN,(NUM_PARTICLES,1)),\n",
    "        ),\n",
    "        axis =1 \n",
    "    )\n",
    "    particles += noise\n",
    "    return particles"
   ]
  },
  {
   "cell_type": "markdown",
   "metadata": {},
   "source": [
    "Display robot, particles and best guess."
   ]
  },
  {
   "cell_type": "code",
   "execution_count": 10,
   "metadata": {},
   "outputs": [],
   "source": [
    "def display(map, rx, ry, particles):\n",
    "    lmap = cv2.cvtColor(map, cv2.COLOR_GRAY2BGR)\n",
    "    \n",
    "    # Display particles\n",
    "    if len(particles) > 0:\n",
    "        for i in range(NUM_PARTICLES):\n",
    "            cv2.circle(lmap, \n",
    "                       (int(particles[i,0]), int(particles[i,1])), \n",
    "                       1, \n",
    "                       (255,0,0), \n",
    "                       1)\n",
    "        \n",
    "    # Display robot\n",
    "    cv2.circle(lmap, (int(rx), int(ry)), 5, (0,255,0), 10)\n",
    "\n",
    "    # Display best guess\n",
    "    if len(particles) > 0 :\n",
    "        px = np.mean(particles[:,0])\n",
    "        py = np.mean(particles[:,1])\n",
    "        cv2.circle(lmap, (int(px), int(py)), 5, (0,0,255), 5)\n",
    "\n",
    "    cv2.imshow('map', lmap)"
   ]
  },
  {
   "cell_type": "markdown",
   "metadata": {},
   "source": [
    "Main routine."
   ]
  },
  {
   "cell_type": "code",
   "execution_count": 11,
   "metadata": {},
   "outputs": [
    {
     "name": "stdout",
     "output_type": "stream",
     "text": [
      "turn_noisy= [0.27444079]\n",
      "turn_noisy= [21.75502037]\n",
      "turn_noisy= [-1.86299081]\n",
      "turn_noisy= [12.92050177]\n",
      "turn_noisy= [5.74751827]\n",
      "turn_noisy= [-17.10757205]\n",
      "turn_noisy= [3.94192116]\n",
      "turn_noisy= [11.6170215]\n",
      "turn_noisy= [-0.97105081]\n",
      "turn_noisy= [3.95066535]\n",
      "turn_noisy= [-5.64996378]\n",
      "turn_noisy= [-8.10815462]\n",
      "turn_noisy= [15.77129259]\n",
      "turn_noisy= [3.45426278]\n",
      "turn_noisy= [7.97310303]\n",
      "turn_noisy= [27.67225289]\n",
      "turn_noisy= [5.20808983]\n",
      "turn_noisy= [0.83124126]\n",
      "turn_noisy= [7.99763791]\n",
      "turn_noisy= [5.89849501]\n",
      "turn_noisy= [6.36732232]\n",
      "turn_noisy= [-3.25358003]\n",
      "turn_noisy= [0.34273249]\n",
      "turn_noisy= [-9.35795889]\n",
      "turn_noisy= [0.80177778]\n",
      "turn_noisy= [14.59321847]\n",
      "turn_noisy= [-22.29263481]\n",
      "turn_noisy= [8.61364032]\n",
      "turn_noisy= [-15.16405682]\n",
      "turn_noisy= [-1.50643176]\n",
      "turn_noisy= [7.3198028]\n",
      "turn_noisy= [-13.50202957]\n",
      "turn_noisy= [-4.1843352]\n",
      "turn_noisy= [-4.34973255]\n",
      "turn_noisy= [-15.13753439]\n",
      "turn_noisy= [2.26150846]\n",
      "turn_noisy= [-15.3842056]\n",
      "turn_noisy= [1.95918007]\n",
      "turn_noisy= [1.83077575]\n",
      "turn_noisy= [1.87697502]\n",
      "turn_noisy= [6.80420825]\n",
      "turn_noisy= [-8.64816361]\n",
      "turn_noisy= [23.74028464]\n",
      "turn_noisy= [9.45277213]\n",
      "turn_noisy= [-3.94827937]\n",
      "turn_noisy= [5.2983269]\n",
      "turn_noisy= [7.54402618]\n",
      "turn_noisy= [-7.8486104]\n",
      "turn_noisy= [3.48290444]\n",
      "turn_noisy= [2.75315801]\n",
      "turn_noisy= [-19.40684959]\n",
      "turn_noisy= [12.15030022]\n",
      "turn_noisy= [2.37584054]\n",
      "turn_noisy= [4.12609932]\n",
      "turn_noisy= [-10.75884887]\n",
      "turn_noisy= [0.54575918]\n",
      "turn_noisy= [0.03121706]\n",
      "turn_noisy= [-1.33903984]\n",
      "turn_noisy= [-2.72351217]\n",
      "turn_noisy= [-1.48564065]\n",
      "turn_noisy= [-9.74326839]\n",
      "turn_noisy= [7.89912125]\n",
      "turn_noisy= [12.87886482]\n",
      "turn_noisy= [1.50382512]\n",
      "turn_noisy= [-3.5434929]\n",
      "turn_noisy= [-3.569078]\n",
      "turn_noisy= [-1.08785099]\n",
      "turn_noisy= [5.41741658]\n",
      "turn_noisy= [3.99903196]\n",
      "turn_noisy= [6.0976448]\n",
      "turn_noisy= [4.04719352]\n",
      "turn_noisy= [4.97827553]\n",
      "turn_noisy= [9.56474466]\n",
      "turn_noisy= [0.86294356]\n",
      "turn_noisy= [3.01342362]\n",
      "turn_noisy= [7.04341149]\n",
      "turn_noisy= [0.62421678]\n",
      "turn_noisy= [8.96544887]\n",
      "turn_noisy= [14.4222868]\n",
      "turn_noisy= [17.73702345]\n",
      "turn_noisy= [3.61716491]\n",
      "turn_noisy= [-6.02777421]\n",
      "turn_noisy= [-3.83670743]\n",
      "turn_noisy= [9.89822734]\n",
      "turn_noisy= [10.93640329]\n",
      "turn_noisy= [-5.12823647]\n",
      "turn_noisy= [12.19594784]\n",
      "turn_noisy= [-3.48457731]\n",
      "turn_noisy= [6.06626333]\n",
      "turn_noisy= [-0.7846835]\n",
      "turn_noisy= [12.60207518]\n",
      "turn_noisy= [-9.15836774]\n",
      "turn_noisy= [-5.35486465]\n",
      "turn_noisy= [12.2995449]\n",
      "turn_noisy= [-7.62089836]\n",
      "turn_noisy= [2.89953563]\n",
      "turn_noisy= [-18.31484454]\n",
      "turn_noisy= [-6.07451401]\n",
      "turn_noisy= [-17.47061919]\n",
      "turn_noisy= [17.30476732]\n",
      "turn_noisy= [-3.94990055]\n",
      "turn_noisy= [5.59075081]\n",
      "turn_noisy= [17.8058427]\n",
      "turn_noisy= [-9.78769911]\n",
      "turn_noisy= [8.75997757]\n",
      "turn_noisy= [-6.93207618]\n",
      "turn_noisy= [-17.01980474]\n",
      "turn_noisy= [0.17333863]\n",
      "turn_noisy= [-13.16865502]\n",
      "turn_noisy= [13.30835133]\n",
      "turn_noisy= [-2.76989065]\n",
      "turn_noisy= [-5.67322165]\n",
      "turn_noisy= [-8.84111598]\n",
      "turn_noisy= [-5.52861764]\n",
      "turn_noisy= [8.6195087]\n",
      "turn_noisy= [9.26794018]\n",
      "turn_noisy= [-5.24427027]\n",
      "turn_noisy= [5.93373298]\n",
      "turn_noisy= [11.91929892]\n",
      "turn_noisy= [8.11783764]\n",
      "turn_noisy= [-10.41433607]\n",
      "turn_noisy= [-11.22409619]\n",
      "turn_noisy= [-10.29814758]\n",
      "turn_noisy= [-6.02608776]\n",
      "turn_noisy= [4.60367633]\n",
      "turn_noisy= [14.41186281]\n",
      "turn_noisy= [3.03488642]\n",
      "turn_noisy= [8.31696506]\n",
      "turn_noisy= [8.28659357]\n",
      "turn_noisy= [13.92197316]\n",
      "turn_noisy= [6.31955764]\n",
      "turn_noisy= [-1.09734869]\n",
      "turn_noisy= [2.65086637]\n",
      "turn_noisy= [1.96254258]\n",
      "turn_noisy= [-15.36863864]\n",
      "turn_noisy= [-27.09614187]\n",
      "turn_noisy= [2.31236074]\n",
      "turn_noisy= [2.76121024]\n",
      "turn_noisy= [-5.426195]\n",
      "turn_noisy= [-4.57505869]\n",
      "turn_noisy= [6.27854473]\n",
      "turn_noisy= [10.9788554]\n",
      "turn_noisy= [-6.0107342]\n",
      "turn_noisy= [2.77769462]\n",
      "turn_noisy= [0.9272624]\n",
      "turn_noisy= [6.8774793]\n",
      "turn_noisy= [14.52329889]\n",
      "turn_noisy= [9.86136842]\n",
      "turn_noisy= [-4.55339768]\n",
      "turn_noisy= [-19.46482285]\n",
      "turn_noisy= [1.44919379]\n",
      "turn_noisy= [16.58247763]\n",
      "turn_noisy= [16.40192005]\n",
      "turn_noisy= [4.22066191]\n",
      "turn_noisy= [19.33845207]\n",
      "turn_noisy= [-5.95950903]\n",
      "turn_noisy= [13.21954556]\n",
      "turn_noisy= [-3.49196727]\n",
      "turn_noisy= [-1.69965299]\n",
      "turn_noisy= [7.33675264]\n",
      "turn_noisy= [8.50974648]\n",
      "turn_noisy= [-3.76660351]\n",
      "turn_noisy= [-4.34277797]\n",
      "turn_noisy= [-1.89712319]\n",
      "turn_noisy= [8.97533907]\n",
      "turn_noisy= [7.92365085]\n",
      "turn_noisy= [12.30414828]\n",
      "turn_noisy= [8.36582609]\n",
      "turn_noisy= [-6.2275521]\n",
      "turn_noisy= [-1.58057358]\n",
      "turn_noisy= [-0.91672892]\n",
      "turn_noisy= [1.18877668]\n",
      "turn_noisy= [7.30380375]\n",
      "turn_noisy= [-1.42665372]\n",
      "turn_noisy= [-18.43718112]\n",
      "turn_noisy= [-2.43518349]\n",
      "turn_noisy= [8.45647874]\n",
      "turn_noisy= [-1.22310224]\n",
      "turn_noisy= [-4.45836011]\n",
      "turn_noisy= [-9.67210706]\n",
      "turn_noisy= [11.0133915]\n"
     ]
    }
   ],
   "source": [
    "particles = init()\n",
    "while True:\n",
    "    display(map, rx, ry, particles)\n",
    "    fwd, turn, halt = get_input()\n",
    "    if halt:\n",
    "        break\n",
    "    rx, ry, rtheta = move_robot(rx, ry, rtheta, fwd, turn)\n",
    "    particles = move_particles(particles, fwd, turn)\n",
    "    if fwd != 0:\n",
    "        robot_sensor = sense(rx, ry, noisy=True)        \n",
    "        weights = compute_weights(particles, robot_sensor)\n",
    "        particles = resample(particles, weights)\n",
    "        particles = add_noise(particles)\n",
    "    \n",
    "cv2.destroyAllWindows()                        \n"
   ]
  }
 ],
 "metadata": {
  "kernelspec": {
   "display_name": "Python 3 (ipykernel)",
   "language": "python",
   "name": "python3"
  },
  "language_info": {
   "codemirror_mode": {
    "name": "ipython",
    "version": 3
   },
   "file_extension": ".py",
   "mimetype": "text/x-python",
   "name": "python",
   "nbconvert_exporter": "python",
   "pygments_lexer": "ipython3",
   "version": "3.9.12"
  }
 },
 "nbformat": 4,
 "nbformat_minor": 4
}
